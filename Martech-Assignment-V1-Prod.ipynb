{
 "cells": [
  {
   "cell_type": "code",
   "execution_count": 0,
   "metadata": {
    "application/vnd.databricks.v1+cell": {
     "cellMetadata": {
      "byteLimit": 2048000,
      "implicitDf": true,
      "rowLimit": 10000
     },
     "inputWidgets": {},
     "nuid": "ec3bbd79-0da7-49bf-93e8-5c79caef0acb",
     "showTitle": false,
     "tableResultSettingsMap": {},
     "title": ""
    }
   },
   "outputs": [],
   "source": [
    "%sql\n",
    "DROP TABLE IF EXISTS martech_archive_gsm;\n",
    "CREATE EXTERNAL TABLE IF NOT EXISTS martech_archive_gsm (\n",
    "    year INT,\n",
    "    month INT,\n",
    "    day INT,\n",
    "    cell_identity STRING,\n",
    "    frequency_band INT,\n",
    "    site_id INT\n",
    ")\n",
    "USING CSV\n",
    "PARTITIONED BY (\n",
    "    p_year INT,\n",
    "    p_month INT,\n",
    "    p_day INT\n",
    ")\n",
    "LOCATION 'gs://martech-archive-data/Archive/gsm/'\n",
    "OPTIONS (\n",
    "    header = 'true',\n",
    "    inferSchema = 'true',\n",
    "    delimiter = ';',\n",
    "    pattern = '*.csv'\n",
    ");\n",
    "\n",
    "\n"
   ]
  },
  {
   "cell_type": "code",
   "execution_count": 0,
   "metadata": {
    "application/vnd.databricks.v1+cell": {
     "cellMetadata": {
      "byteLimit": 2048000,
      "implicitDf": true,
      "rowLimit": 10000
     },
     "inputWidgets": {},
     "nuid": "e49c1ba8-b2f6-4e9d-bf8c-c90c6fe36555",
     "showTitle": false,
     "tableResultSettingsMap": {},
     "title": ""
    }
   },
   "outputs": [],
   "source": [
    "%sql\n",
    "DROP TABLE IF EXISTS martech_archive_site;\n",
    "CREATE EXTERNAL TABLE IF NOT EXISTS martech_archive_site (\n",
    "    year INT,\n",
    "    month INT,\n",
    "    day INT,\n",
    "    site_id INT\n",
    ")\n",
    "USING CSV\n",
    "PARTITIONED BY (\n",
    "    p_year INT,\n",
    "    p_month INT,\n",
    "    p_day INT\n",
    ")\n",
    "LOCATION 'gs://martech-archive-data/Archive/site/'\n",
    "OPTIONS (\n",
    "    header = 'true',\n",
    "    inferSchema = 'true',\n",
    "    delimiter = ';',\n",
    "    pattern = '*.csv'\n",
    ");"
   ]
  },
  {
   "cell_type": "code",
   "execution_count": 0,
   "metadata": {
    "application/vnd.databricks.v1+cell": {
     "cellMetadata": {
      "byteLimit": 2048000,
      "rowLimit": 10000
     },
     "inputWidgets": {},
     "nuid": "52126ac9-3db3-4ff4-8ef8-c042456fca60",
     "showTitle": false,
     "tableResultSettingsMap": {},
     "title": ""
    }
   },
   "outputs": [],
   "source": [
    "drop_external_table_tech_sql = 'DROP TABLE IF EXISTS martech_archive_{tech_type}'\n",
    "create_external_table_tech_sql = \"\"\"\n",
    "CREATE EXTERNAL TABLE IF NOT EXISTS martech_archive_{tech_type} (\n",
    "    year INT,\n",
    "    month INT,\n",
    "    day INT,\n",
    "    cell_identity STRING,\n",
    "    frequency_band INT,\n",
    "    site_id INT\n",
    ")\n",
    "USING CSV\n",
    "PARTITIONED BY (\n",
    "    p_year INT,\n",
    "    p_month INT,\n",
    "    p_day INT\n",
    ")\n",
    "LOCATION 'gs://martech-archive-data/Archive/{tech_type}/'\n",
    "OPTIONS (\n",
    "    header = 'true',\n",
    "    inferSchema = 'true',\n",
    "    delimiter = ';',\n",
    "    pattern = '*.csv'\n",
    ");\n",
    "\n",
    "\"\"\"\n",
    "\n",
    "\n",
    "from pyspark.sql import SparkSession\n",
    "\n",
    "spark = SparkSession.builder.appName(\"CreateExternalTable\").getOrCreate()\n",
    "\n",
    "for tech_type in ['gsm', 'umts', 'lte']:\n",
    "    spark.sql(drop_external_table_tech_sql.format(tech_type=tech_type))\n",
    "    spark.sql(create_external_table_tech_sql.format(tech_type=tech_type))\n",
    "\n",
    "\n"
   ]
  },
  {
   "cell_type": "code",
   "execution_count": 0,
   "metadata": {
    "application/vnd.databricks.v1+cell": {
     "cellMetadata": {
      "byteLimit": 2048000,
      "implicitDf": true,
      "rowLimit": 10000
     },
     "inputWidgets": {},
     "nuid": "6391bb55-dc82-456e-816b-f54f9a98ea2f",
     "showTitle": false,
     "tableResultSettingsMap": {},
     "title": ""
    }
   },
   "outputs": [],
   "source": [
    "%sql\n",
    "SELECT a.p_year, a.p_month, a.p_day, a.site_id, \n",
    "\n",
    "       -- cell count\n",
    "       COALESCE(gsm.cell_cnt, 0) AS site_2g_cnt,\n",
    "       COALESCE(umts.cell_cnt, 0) AS site_3g_cnt,\n",
    "       COALESCE(lte.cell_cnt, 0) AS site_4g_cnt,\n",
    "\n",
    "       -- frequency_band\n",
    "       COALESCE(frequency_band_G900, 0) AS frequency_band_G900,\n",
    "       COALESCE(frequency_band_G1800, 0) AS frequency_band_G1800,\n",
    "       COALESCE(frequency_band_U900, 0) AS frequency_band_U900,\n",
    "       COALESCE(frequency_band_U2100, 0) AS frequency_band_U2100,\n",
    "       -- frequency_band: lte\n",
    "       COALESCE(frequency_band_L700, 0) AS frequency_band_L700,\n",
    "       COALESCE(frequency_band_L800, 0) AS frequency_band_L800,\n",
    "       COALESCE(frequency_band_L1800, 0) AS frequency_band_L1800,\n",
    "       COALESCE(frequency_band_L2100, 0) AS frequency_band_L2100,\n",
    "       COALESCE(frequency_band_L2600, 0) AS frequency_band_L2600\n",
    "FROM \n",
    "(\n",
    "  SELECT *\n",
    "  FROM martech_archive_site \n",
    ") a \n",
    "LEFT JOIN (\n",
    "  SELECT p_year, p_month, p_day, site_id, \n",
    "         COUNT(DISTINCT cell_identity) AS cell_cnt,\n",
    "         MAX(IF(frequency_band = 900, 1, 0)) AS frequency_band_G900,\n",
    "         MAX(IF(frequency_band = 1800, 1, 0)) AS frequency_band_G1800\n",
    "   FROM martech_archive_gsm \n",
    "  GROUP BY p_year, p_month, p_day, site_id\n",
    ") gsm ON a.p_year = gsm.p_year AND a.p_month = gsm.p_month AND a.p_day = gsm.p_day AND a.site_id = gsm.site_id\n",
    "LEFT JOIN (\n",
    "  SELECT p_year, p_month, p_day, site_id, \n",
    "         COUNT(DISTINCT cell_identity) AS cell_cnt,\n",
    "         MAX(IF(frequency_band = 900, 1, 0)) AS frequency_band_U900,\n",
    "         MAX(IF(frequency_band = 2100, 1, 0)) AS frequency_band_U2100\n",
    "   FROM martech_archive_umts\n",
    "  GROUP BY p_year, p_month, p_day, site_id\n",
    ") umts ON a.p_year = umts.p_year AND a.p_month = umts.p_month AND a.p_day = umts.p_day AND a.site_id = umts.site_id\n",
    "LEFT JOIN (\n",
    "  SELECT p_year, p_month, p_day, site_id, \n",
    "         COUNT(DISTINCT cell_identity) AS cell_cnt,\n",
    "         MAX(IF(frequency_band = 700, 1, 0)) AS frequency_band_L700,\n",
    "         MAX(IF(frequency_band = 800, 1, 0)) AS frequency_band_L800,\n",
    "         MAX(IF(frequency_band = 1800, 1, 0)) AS frequency_band_L1800,\n",
    "         MAX(IF(frequency_band = 2100, 1, 0)) AS frequency_band_L2100,\n",
    "         MAX(IF(frequency_band = 2600, 1, 0)) AS frequency_band_L2600\n",
    "   FROM martech_archive_lte\n",
    "  GROUP BY p_year, p_month, p_day, site_id\n",
    ") lte ON a.p_year = lte.p_year AND a.p_month = lte.p_month AND a.p_day = lte.p_day AND a.site_id = lte.site_id\n",
    "\n",
    ";"
   ]
  }
 ],
 "metadata": {
  "application/vnd.databricks.v1+notebook": {
   "computePreferences": null,
   "dashboards": [],
   "environmentMetadata": {
    "base_environment": "",
    "environment_version": "2"
   },
   "inputWidgetPreferences": null,
   "language": "python",
   "notebookMetadata": {
    "mostRecentlyExecutedCommandWithImplicitDF": {
     "commandId": 7625310585241751,
     "dataframes": [
      "_sqldf"
     ]
    },
    "pythonIndentUnit": 4
   },
   "notebookName": "Martech-Assignment-V1-Prod",
   "widgets": {}
  },
  "language_info": {
   "name": "python"
  }
 },
 "nbformat": 4,
 "nbformat_minor": 0
}
