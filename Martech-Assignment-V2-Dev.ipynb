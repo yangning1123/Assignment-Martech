{
 "cells": [
  {
   "cell_type": "code",
   "execution_count": 0,
   "metadata": {
    "application/vnd.databricks.v1+cell": {
     "cellMetadata": {
      "byteLimit": 2048000,
      "rowLimit": 10000
     },
     "inputWidgets": {},
     "nuid": "1335d8e0-3d24-4cb7-a7c2-7459669546d0",
     "showTitle": false,
     "tableResultSettingsMap": {},
     "title": ""
    }
   },
   "outputs": [],
   "source": [
    "# tech_list and datekey should be maintained\n",
    "tech_list = [\n",
    "    ('gsm', '2g', '900'),\n",
    "    ('gsm', '2g', '1800'),\n",
    "    ('umts', '3g', '900'),\n",
    "    ('umts', '3g', '2100'),\n",
    "    \n",
    "    ('lte', '4g', '700'),\n",
    "    ('lte', '4g', '800'),\n",
    "    ('lte', '4g', '1800'),\n",
    "    ('lte', '4g', '2100'),\n",
    "    ('lte', '4g', '2600')\n",
    "]\n",
    "datekey = '2018-10-24'\n",
    "year, month, day = datekey.split('-')\n"
   ]
  },
  {
   "cell_type": "code",
   "execution_count": 0,
   "metadata": {
    "application/vnd.databricks.v1+cell": {
     "cellMetadata": {
      "byteLimit": 2048000,
      "rowLimit": 10000
     },
     "inputWidgets": {},
     "nuid": "b58b2f30-119b-453c-a5a5-a64d1c87a6ae",
     "showTitle": false,
     "tableResultSettingsMap": {},
     "title": ""
    }
   },
   "outputs": [],
   "source": [
    "from pyspark.sql import SparkSession\n",
    "from pyspark.sql.functions import col, when, lit\n",
    "\n",
    "spark = SparkSession.builder.appName(\"DimensionTableTransform\").getOrCreate()\n",
    "\n",
    "\n",
    "\n",
    "df_tech_dimension = spark.createDataFrame([\n",
    "    (row[0], row[1], row[2], 'site_' + row[1] + '_cnt', 'frequency_band_' + row[0][0].upper() + row[2] ) for row in tech_list\n",
    "], [\"tech_type\", \"network_type\", \"frequency\", \"cell_cnt_value\", \"frequency_band_value\"])\n",
    "df_tech_dimension.show()"
   ]
  },
  {
   "cell_type": "code",
   "execution_count": 0,
   "metadata": {
    "application/vnd.databricks.v1+cell": {
     "cellMetadata": {
      "byteLimit": 2048000,
      "rowLimit": 10000
     },
     "inputWidgets": {},
     "nuid": "3901c398-545f-4b0b-8556-c8b34f0284d8",
     "showTitle": false,
     "tableResultSettingsMap": {},
     "title": ""
    }
   },
   "outputs": [],
   "source": [
    "df_site = spark.read \\\n",
    "        .format(\"csv\") \\\n",
    "        .option(\"header\", \"true\") \\\n",
    "        .option(\"delimiter\", \";\") \\\n",
    "        .option(\"inferSchema\", \"true\") \\\n",
    "        .load(\"gs://martech-archive-data/Archive/site/year={year}/month={mon}/day={day}/*.csv\".format(year=year, mon=month, day=day))\n",
    "    \n",
    "df_site.show()\n",
    "\n"
   ]
  },
  {
   "cell_type": "code",
   "execution_count": 0,
   "metadata": {
    "application/vnd.databricks.v1+cell": {
     "cellMetadata": {
      "byteLimit": 2048000,
      "rowLimit": 10000
     },
     "inputWidgets": {},
     "nuid": "0000bb37-302b-4f18-8b6d-02b2d030f72d",
     "showTitle": false,
     "tableResultSettingsMap": {},
     "title": ""
    }
   },
   "outputs": [],
   "source": [
    "from pyspark.sql.types import StructType, StructField, StringType, IntegerType\n",
    "\n",
    "# Define the schema\n",
    "schema = StructType([\n",
    "    StructField(\"year\", IntegerType(), True),\n",
    "    StructField(\"month\", IntegerType(), True),\n",
    "    StructField(\"day\", IntegerType(), True),\n",
    "    StructField(\"cell_identity\", StringType(), True),\n",
    "    StructField(\"frequency_band\", StringType(), True),\n",
    "    StructField(\"site_id\", StringType(), True),\n",
    "    StructField(\"tech_type\", StringType(), True)\n",
    "])\n",
    "\n",
    "# Create an empty DataFrame with the defined schema\n",
    "df_data = spark.createDataFrame(spark.sparkContext.emptyRDD(), schema)\n",
    "\n",
    "\n",
    "# Merge all the data into a dataframe\n",
    "tech_types = set(item[0] for item in tech_list)\n",
    "for tech_type in tech_types:\n",
    "    path = \"gs://martech-archive-data/Archive/{type}/year={year}/month={mon}/day={day}/*.csv\".format(type=tech_type, year=year, mon=month, day=day)\n",
    "   \n",
    "    try:\n",
    "        df_tech_type = spark.read \\\n",
    "            .format(\"csv\") \\\n",
    "            .option(\"header\", \"true\") \\\n",
    "            .option(\"delimiter\", \";\") \\\n",
    "            .option(\"inferSchema\", \"true\") \\\n",
    "            .load(path)\n",
    "    except Exception as e:\n",
    "        continue\n",
    "\n",
    "    df_tech_type = df_tech_type.withColumn(tech_type, lit(tech_type))\n",
    "    df_data = df_data.union(df_tech_type)\n",
    "        \n",
    "\n",
    "df_data.show()"
   ]
  },
  {
   "cell_type": "code",
   "execution_count": 0,
   "metadata": {
    "application/vnd.databricks.v1+cell": {
     "cellMetadata": {
      "byteLimit": 2048000,
      "rowLimit": 10000
     },
     "inputWidgets": {},
     "nuid": "1f7ff441-e590-4e05-8287-1841a4d743dc",
     "showTitle": false,
     "tableResultSettingsMap": {},
     "title": ""
    }
   },
   "outputs": [],
   "source": [
    "df_data.createOrReplaceTempView(\"martech_archive_data\")\n",
    "df_site.createOrReplaceTempView(\"martech_archive_site\")\n",
    "df_tech_dimension.createOrReplaceTempView(\"dim_tech_info\")"
   ]
  },
  {
   "cell_type": "code",
   "execution_count": 0,
   "metadata": {
    "application/vnd.databricks.v1+cell": {
     "cellMetadata": {
      "byteLimit": 2048000,
      "implicitDf": true,
      "rowLimit": 10000
     },
     "inputWidgets": {},
     "nuid": "22c1d451-aadd-472d-8d09-5e169178c721",
     "showTitle": false,
     "tableResultSettingsMap": {},
     "title": ""
    }
   },
   "outputs": [],
   "source": [
    "%sql\n",
    "SELECT * FROM martech_archive_data;\n",
    "\n",
    "\n"
   ]
  },
  {
   "cell_type": "code",
   "execution_count": 0,
   "metadata": {
    "application/vnd.databricks.v1+cell": {
     "cellMetadata": {
      "byteLimit": 2048000,
      "implicitDf": true,
      "rowLimit": 10000
     },
     "inputWidgets": {},
     "nuid": "8ad70646-9c12-4399-81e3-ea4ad74905a3",
     "showTitle": false,
     "tableResultSettingsMap": {},
     "title": ""
    }
   },
   "outputs": [],
   "source": [
    "%sql\n",
    "-- site_technology_cnt\n",
    "SELECT bb.year, bb.month, bb.day, bb.site_id,\n",
    "       COALESCE(SUM(aa.site_2g_cnt), 0) AS site_2g_cnt, \n",
    "       COALESCE(SUM(aa.site_3g_cnt), 0) AS site_3g_cnt,\n",
    "       COALESCE(SUM(aa.site_4g_cnt), 0) AS site_4g_cnt\n",
    "FROM (\n",
    "  SELECT *\n",
    "  FROM (\n",
    "      SELECT year, month, day, tech_type, site_id,\n",
    "            COUNT(DISTINCT cell_identity) AS cell_cnt\n",
    "      FROM martech_archive_data\n",
    "      GROUP BY year, month, day, tech_type, site_id\n",
    "  )  a \n",
    "  JOIN (\n",
    "      SELECT tech_type, cell_cnt_value\n",
    "        FROM dim_tech_info\n",
    "       GROUP BY tech_type, cell_cnt_value\n",
    "  )  b ON a.tech_type = b.tech_type\n",
    "  PIVOT (\n",
    "    SUM(cell_cnt) AS cell_cnt\n",
    "    FOR cell_cnt_value IN ('site_2g_cnt', 'site_3g_cnt', 'site_4g_cnt') \n",
    "  )\n",
    ") aa RIGHT JOIN martech_archive_site bb ON aa.site_id = bb.site_id\n",
    "GROUP BY bb.year, bb.month, bb.day, bb.site_id\n",
    ";"
   ]
  },
  {
   "cell_type": "code",
   "execution_count": 0,
   "metadata": {
    "application/vnd.databricks.v1+cell": {
     "cellMetadata": {
      "byteLimit": 2048000,
      "implicitDf": true,
      "rowLimit": 10000
     },
     "inputWidgets": {},
     "nuid": "baa4a4d6-4f83-4cb5-8960-1a4219a9f134",
     "showTitle": false,
     "tableResultSettingsMap": {},
     "title": ""
    }
   },
   "outputs": [],
   "source": [
    "%sql\n",
    "\n",
    "-- frequency_band \n",
    "SELECT bb.year, bb.month, bb.day, bb.site_id,\n",
    "       -- frequency_band\n",
    "       MAX(COALESCE(frequency_band_G900, 0)) AS frequency_band_G900,\n",
    "       MAX(COALESCE(frequency_band_G1800, 0)) AS frequency_band_G1800,\n",
    "       MAX(COALESCE(frequency_band_U900, 0)) AS frequency_band_U900,\n",
    "       MAX(COALESCE(frequency_band_U2100, 0)) AS frequency_band_U2100,\n",
    "       -- frequency_band: lte\n",
    "       MAX(COALESCE(frequency_band_L700, 0)) AS frequency_band_L700,\n",
    "       MAX(COALESCE(frequency_band_L800, 0)) AS frequency_band_L800,\n",
    "       MAX(COALESCE(frequency_band_L1800, 0)) AS frequency_band_L1800,\n",
    "       MAX(COALESCE(frequency_band_L2100, 0)) AS frequency_band_L2100,\n",
    "       MAX(COALESCE(frequency_band_L2600, 0)) AS frequency_band_L2600\n",
    "FROM (\n",
    "  SELECT *\n",
    "    FROM (\n",
    "        SELECT year, month, day, tech_type, site_id, frequency_band\n",
    "        FROM martech_archive_data\n",
    "    )  a \n",
    "    JOIN (\n",
    "        SELECT tech_type, frequency, frequency_band_value\n",
    "          FROM dim_tech_info\n",
    "        GROUP BY tech_type, frequency, frequency_band_value\n",
    "    )  b ON a.tech_type = b.tech_type AND a.frequency_band = b.frequency\n",
    "    PIVOT (\n",
    "      MAX(IF(frequency_band IS NOT NULL, 1, 0)) AS frenquency_is_exist\n",
    "      FOR frequency_band_value IN ('frequency_band_G900', 'frequency_band_G1800', 'frequency_band_U900', 'frequency_band_U2100',\n",
    "      'frequency_band_L700', 'frequency_band_L800', 'frequency_band_L1800', 'frequency_band_L2100', 'frequency_band_L2600') \n",
    "    )\n",
    ") aa RIGHT JOIN martech_archive_site bb ON aa.site_id = bb.site_id\n",
    "GROUP BY bb.year, bb.month, bb.day, bb.site_id\n",
    ";"
   ]
  },
  {
   "cell_type": "code",
   "execution_count": 0,
   "metadata": {
    "application/vnd.databricks.v1+cell": {
     "cellMetadata": {
      "byteLimit": 2048000,
      "implicitDf": true,
      "rowLimit": 10000
     },
     "inputWidgets": {},
     "nuid": "172e1bba-fc0e-4137-a3a4-223f0d9412ed",
     "showTitle": false,
     "tableResultSettingsMap": {},
     "title": ""
    }
   },
   "outputs": [],
   "source": [
    "%sql\n",
    "SELECT  year, month, day, site_id,\n",
    "        SUM(site_2g_cnt) AS site_2g_cnt, \n",
    "        SUM(site_3g_cnt) AS site_3g_cnt,\n",
    "        SUM(site_4g_cnt) AS site_4g_cnt,\n",
    "        SUM(frequency_band_G900) AS frequency_band_G900,\n",
    "        SUM(frequency_band_G1800) AS frequency_band_G1800,\n",
    "        SUM(frequency_band_U900) AS frequency_band_U900,\n",
    "        SUM(frequency_band_U2100) AS frequency_band_U2100,\n",
    "        SUM(frequency_band_L700) AS frequency_band_L700,\n",
    "        SUM(frequency_band_L800) AS frequency_band_L800,\n",
    "        SUM(frequency_band_L1800) AS frequency_band_L1800,\n",
    "        SUM(frequency_band_L2100) AS frequency_band_L2100,\n",
    "        SUM(frequency_band_L2600) AS frequency_band_L2600\n",
    "FROM (\n",
    "  -- site_technology_cnt\n",
    "  SELECT bb.year, bb.month, bb.day, bb.site_id,\n",
    "        COALESCE(SUM(aa.site_2g_cnt), 0) AS site_2g_cnt, \n",
    "        COALESCE(SUM(aa.site_3g_cnt), 0) AS site_3g_cnt,\n",
    "        COALESCE(SUM(aa.site_4g_cnt), 0) AS site_4g_cnt,\n",
    "        0 AS frequency_band_G900,\n",
    "        0 AS frequency_band_G1800,\n",
    "        0 AS frequency_band_U900,\n",
    "        0 AS frequency_band_U2100,\n",
    "        0 AS frequency_band_L700,\n",
    "        0 AS frequency_band_L800,\n",
    "        0 AS frequency_band_L1800,\n",
    "        0 AS frequency_band_L2100,\n",
    "        0 AS frequency_band_L2600\n",
    "  FROM (\n",
    "    SELECT *\n",
    "    FROM (\n",
    "        SELECT year, month, day, tech_type, site_id,\n",
    "              COUNT(DISTINCT cell_identity) AS cell_cnt\n",
    "        FROM martech_archive_data\n",
    "        GROUP BY year, month, day, tech_type, site_id\n",
    "    )  a \n",
    "    JOIN (\n",
    "        SELECT tech_type, cell_cnt_value\n",
    "          FROM dim_tech_info\n",
    "        GROUP BY tech_type, cell_cnt_value\n",
    "    )  b ON a.tech_type = b.tech_type\n",
    "    PIVOT (\n",
    "      SUM(cell_cnt) AS cell_cnt\n",
    "      FOR cell_cnt_value IN ('site_2g_cnt', 'site_3g_cnt', 'site_4g_cnt') \n",
    "    )\n",
    "  ) aa RIGHT JOIN martech_archive_site bb ON aa.site_id = bb.site_id\n",
    "  GROUP BY bb.year, bb.month, bb.day, bb.site_id\n",
    "\n",
    "  UNION ALL \n",
    "  -- frequency_band \n",
    "  SELECT bb.year, bb.month, bb.day, bb.site_id,\n",
    "        0 AS site_2g_cnt, \n",
    "        0 AS site_3g_cnt,\n",
    "        0 AS site_4g_cnt,\n",
    "        -- frequency_band\n",
    "        MAX(COALESCE(frequency_band_G900, 0)) AS frequency_band_G900,\n",
    "        MAX(COALESCE(frequency_band_G1800, 0)) AS frequency_band_G1800,\n",
    "        MAX(COALESCE(frequency_band_U900, 0)) AS frequency_band_U900,\n",
    "        MAX(COALESCE(frequency_band_U2100, 0)) AS frequency_band_U2100,\n",
    "        -- frequency_band: lte\n",
    "        MAX(COALESCE(frequency_band_L700, 0)) AS frequency_band_L700,\n",
    "        MAX(COALESCE(frequency_band_L800, 0)) AS frequency_band_L800,\n",
    "        MAX(COALESCE(frequency_band_L1800, 0)) AS frequency_band_L1800,\n",
    "        MAX(COALESCE(frequency_band_L2100, 0)) AS frequency_band_L2100,\n",
    "        MAX(COALESCE(frequency_band_L2600, 0)) AS frequency_band_L2600\n",
    "  FROM (\n",
    "    SELECT *\n",
    "      FROM (\n",
    "          SELECT year, month, day, tech_type, site_id, frequency_band\n",
    "          FROM martech_archive_data\n",
    "      )  a \n",
    "      JOIN (\n",
    "          SELECT tech_type, frequency, frequency_band_value\n",
    "            FROM dim_tech_info\n",
    "          GROUP BY tech_type, frequency, frequency_band_value\n",
    "      )  b ON a.tech_type = b.tech_type AND a.frequency_band = b.frequency\n",
    "      PIVOT (\n",
    "        MAX(IF(frequency_band IS NOT NULL, 1, 0)) AS frenquency_is_exist\n",
    "        FOR frequency_band_value IN ('frequency_band_G900', 'frequency_band_G1800', 'frequency_band_U900', 'frequency_band_U2100',\n",
    "        'frequency_band_L700', 'frequency_band_L800', 'frequency_band_L1800', 'frequency_band_L2100', 'frequency_band_L2600') \n",
    "      )\n",
    "  ) aa RIGHT JOIN martech_archive_site bb ON aa.site_id = bb.site_id\n",
    "  GROUP BY bb.year, bb.month, bb.day, bb.site_id\n",
    ") aaa GROUP BY year, month, day, site_id"
   ]
  },
  {
   "cell_type": "code",
   "execution_count": 0,
   "metadata": {
    "application/vnd.databricks.v1+cell": {
     "cellMetadata": {
      "byteLimit": 2048000,
      "implicitDf": true,
      "rowLimit": 10000
     },
     "inputWidgets": {},
     "nuid": "2e837834-10a2-44db-81e2-73be95b2a30f",
     "showTitle": false,
     "tableResultSettingsMap": {},
     "title": ""
    }
   },
   "outputs": [],
   "source": [
    "%sql\n",
    "\n",
    "SELECT bb.year, bb.month, bb.day, bb.site_id,\n",
    "       COALESCE(SUM(aa.site_2g_cnt), 0) AS site_2g_cnt,\n",
    "       COALESCE(SUM(aa.site_3g_cnt), 0) AS site_3g_cnt,\n",
    "       COALESCE(SUM(aa.site_4g_cnt), 0) AS site_4g_cnt\n",
    "FROM (\n",
    "  SELECT *\n",
    "  FROM (\n",
    "      SELECT year, month, day, tech_type, site_id,\n",
    "            COUNT(DISTINCT cell_identity) AS cell_cnt\n",
    "      FROM martech_archive_data\n",
    "      GROUP BY year, month, day, tech_type, site_id\n",
    "  )  a \n",
    "  JOIN (\n",
    "      SELECT tech_type, cell_cnt_value\n",
    "        FROM dim_tech_info\n",
    "       GROUP BY tech_type, cell_cnt_value\n",
    "  )  b ON a.tech_type = b.tech_type\n",
    "  PIVOT (\n",
    "    SUM(cell_cnt) AS cell_cnt\n",
    "    FOR cell_cnt_value IN ('site_2g_cnt', 'site_3g_cnt', 'site_4g_cnt') \n",
    "  )\n",
    ") aa RIGHT JOIN martech_archive_site bb ON aa.site_id = bb.site_id\n",
    "GROUP BY bb.year, bb.month, bb.day, bb.site_id\n"
   ]
  },
  {
   "cell_type": "code",
   "execution_count": 0,
   "metadata": {
    "application/vnd.databricks.v1+cell": {
     "cellMetadata": {
      "byteLimit": 2048000,
      "implicitDf": true,
      "rowLimit": 10000
     },
     "inputWidgets": {},
     "nuid": "70ef26e7-5f55-427b-aaa4-8511afea5786",
     "showTitle": false,
     "tableResultSettingsMap": {},
     "title": ""
    }
   },
   "outputs": [],
   "source": [
    "%sql\n",
    "\n",
    "-- frequency_band \n",
    "SELECT bb.year, bb.month, bb.day, bb.site_id,\n",
    "       -- frequency_band\n",
    "       MAX(COALESCE(frequency_band_G900, 0)) AS frequency_band_G900,\n",
    "       MAX(COALESCE(frequency_band_U900, 0)) AS frequency_band_U900,\n",
    "       MAX(COALESCE(frequency_band_G1800, 0)) AS frequency_band_G1800,\n",
    "       MAX(COALESCE(frequency_band_U2100, 0)) AS frequency_band_U2100,\n",
    "       MAX(COALESCE(frequency_band_L2600, 0)) AS frequency_band_L2600,\n",
    "       MAX(COALESCE(frequency_band_L2100, 0)) AS frequency_band_L2100,\n",
    "       MAX(COALESCE(frequency_band_L700, 0)) AS frequency_band_L700,\n",
    "       MAX(COALESCE(frequency_band_L1800, 0)) AS frequency_band_L1800,\n",
    "       MAX(COALESCE(frequency_band_L800, 0)) AS frequency_band_L800\n",
    "FROM (\n",
    "  SELECT *\n",
    "    FROM (\n",
    "        SELECT year, month, day, tech_type, site_id, frequency_band\n",
    "        FROM martech_archive_data\n",
    "    )  a \n",
    "    JOIN (\n",
    "        SELECT tech_type, frequency, frequency_band_value\n",
    "          FROM dim_tech_info\n",
    "        GROUP BY tech_type, frequency, frequency_band_value\n",
    "    )  b ON a.tech_type = b.tech_type AND a.frequency_band = b.frequency\n",
    "    PIVOT (\n",
    "      MAX(IF(frequency_band IS NOT NULL, 1, 0)) AS frenquency_is_exist\n",
    "      FOR frequency_band_value IN ('frequency_band_G900', 'frequency_band_U900', 'frequency_band_G1800', 'frequency_band_U2100', 'frequency_band_L2600', 'frequency_band_L2100', 'frequency_band_L700', 'frequency_band_L1800', 'frequency_band_L800') \n",
    "    )\n",
    ") aa RIGHT JOIN martech_archive_site bb ON aa.site_id = bb.site_id\n",
    "GROUP BY bb.year, bb.month, bb.day, bb.site_id\n"
   ]
  }
 ],
 "metadata": {
  "application/vnd.databricks.v1+notebook": {
   "computePreferences": null,
   "dashboards": [],
   "environmentMetadata": {
    "base_environment": "",
    "environment_version": "2"
   },
   "inputWidgetPreferences": null,
   "language": "python",
   "notebookMetadata": {
    "mostRecentlyExecutedCommandWithImplicitDF": {
     "commandId": 5530975304580925,
     "dataframes": [
      "_sqldf"
     ]
    },
    "pythonIndentUnit": 4
   },
   "notebookName": "Martech-Assignment-V2-Dev",
   "widgets": {}
  },
  "language_info": {
   "name": "python"
  }
 },
 "nbformat": 4,
 "nbformat_minor": 0
}
